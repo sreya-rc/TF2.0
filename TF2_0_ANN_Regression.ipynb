{
  "nbformat": 4,
  "nbformat_minor": 0,
  "metadata": {
    "colab": {
      "provenance": [],
      "authorship_tag": "ABX9TyPc6NEaePpOnBQfvLVmPLob",
      "include_colab_link": true
    },
    "kernelspec": {
      "name": "python3",
      "display_name": "Python 3"
    },
    "language_info": {
      "name": "python"
    }
  },
  "cells": [
    {
      "cell_type": "markdown",
      "metadata": {
        "id": "view-in-github",
        "colab_type": "text"
      },
      "source": [
        "<a href=\"https://colab.research.google.com/github/sreya-rc/TF2.0/blob/main/TF2_0_ANN_Regression.ipynb\" target=\"_parent\"><img src=\"https://colab.research.google.com/assets/colab-badge.svg\" alt=\"Open In Colab\"/></a>"
      ]
    },
    {
      "cell_type": "code",
      "execution_count": null,
      "metadata": {
        "colab": {
          "base_uri": "https://localhost:8080/"
        },
        "id": "mPNH0qq1znf-",
        "outputId": "8889e123-c26b-4bb7-a8b3-000364ac1250"
      },
      "outputs": [
        {
          "output_type": "stream",
          "name": "stdout",
          "text": [
            "Colab only includes TensorFlow 2.x; %tensorflow_version has no effect.\n",
            "2.12.0\n"
          ]
        }
      ],
      "source": [
        "# Install TensorFlow\n",
        "try:\n",
        "  %tensorflow_version 2.x # Colab only.\n",
        "except Exception:\n",
        "  pass\n",
        "\n",
        "import tensorflow as tf\n",
        "print(tf.__version__)"
      ]
    },
    {
      "cell_type": "code",
      "source": [
        "# Other imports\n",
        "import numpy as np\n",
        "import matplotlib.pyplot as plt\n",
        "from mpl_toolkits.mplot3d import Axes3D"
      ],
      "metadata": {
        "id": "GtmKqf4Mzw6J"
      },
      "execution_count": null,
      "outputs": []
    },
    {
      "cell_type": "code",
      "source": [
        "# Make the dataset\n",
        "N = 1000\n",
        "X = np.random.random((N, 2)) * 6 - 3  # uniformly distributed between (-3, 3)\n",
        "Y = np.cos(2*X[:, 0]) + np.cos(3*X[:, 1])"
      ],
      "metadata": {
        "id": "roAPjxDs0MT5"
      },
      "execution_count": null,
      "outputs": []
    },
    {
      "cell_type": "markdown",
      "source": [
        "This implements the function:"
      ],
      "metadata": {
        "id": "p8F82fqU16Yn"
      }
    }
  ]
}