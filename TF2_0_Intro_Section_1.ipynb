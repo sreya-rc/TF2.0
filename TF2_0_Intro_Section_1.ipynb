{
  "nbformat": 4,
  "nbformat_minor": 0,
  "metadata": {
    "colab": {
      "provenance": [],
      "authorship_tag": "ABX9TyPxmVitE0Rv7Cj6d+llYZao",
      "include_colab_link": true
    },
    "kernelspec": {
      "name": "python3",
      "display_name": "Python 3"
    },
    "language_info": {
      "name": "python"
    }
  },
  "cells": [
    {
      "cell_type": "markdown",
      "metadata": {
        "id": "view-in-github",
        "colab_type": "text"
      },
      "source": [
        "<a href=\"https://colab.research.google.com/github/sreya-rc/TF2.0/blob/main/TF2_0_Intro_Section_1.ipynb\" target=\"_parent\"><img src=\"https://colab.research.google.com/assets/colab-badge.svg\" alt=\"Open In Colab\"/></a>"
      ]
    },
    {
      "cell_type": "markdown",
      "source": [
        "#**Installing TensorFlow**"
      ],
      "metadata": {
        "id": "7oNr7bkuEKGa"
      }
    },
    {
      "cell_type": "code",
      "execution_count": null,
      "metadata": {
        "colab": {
          "base_uri": "https://localhost:8080/"
        },
        "id": "CGMGq7BMBGCs",
        "outputId": "3a65f785-001a-45be-da42-729b91f19569"
      },
      "outputs": [
        {
          "output_type": "stream",
          "name": "stdout",
          "text": [
            "2.12.0\n"
          ]
        }
      ],
      "source": [
        "# What's already installed?\n",
        "import tensorflow as tf\n",
        "print(tf.__version__)"
      ]
    },
    {
      "cell_type": "code",
      "source": [
        "# Install Tensorflow 2.0\n",
        "# You can run regular shell commands by by prepending !\n",
        "# !pip install -q tensorflow==2.0.0-beta1\n",
        "\n",
        "# GPU version\n",
        "# !pip install -q tensorflow-gpu==2.0.0-beta1"
      ],
      "metadata": {
        "id": "-U_b9waKB6rE"
      },
      "execution_count": null,
      "outputs": []
    },
    {
      "cell_type": "markdown",
      "source": [
        "# **Loading Data**"
      ],
      "metadata": {
        "id": "W5oCBK_AEsju"
      }
    },
    {
      "cell_type": "code",
      "source": [
        "# download the data from a URL\n",
        "# source: https://archive.ics.uci.edu/ml/datasets/Arrhythmia\n",
        "!wget https://archive.ics.uci.edu/ml/machine-learning-databases/arrythmia/arrhythmia.data"
      ],
      "metadata": {
        "colab": {
          "base_uri": "https://localhost:8080/"
        },
        "id": "ZqTGaudtE32n",
        "outputId": "b7d0817b-ab41-4932-d4de-6a6f95d4633e"
      },
      "execution_count": null,
      "outputs": [
        {
          "output_type": "stream",
          "name": "stdout",
          "text": [
            "--2023-07-25 22:07:42--  https://archive.ics.uci.edu/ml/machine-learning-databases/arrythmia/arrhythmia.data\n",
            "Resolving archive.ics.uci.edu (archive.ics.uci.edu)... 128.195.10.252\n",
            "Connecting to archive.ics.uci.edu (archive.ics.uci.edu)|128.195.10.252|:443... connected.\n",
            "HTTP request sent, awaiting response... 404 Not Found\n",
            "2023-07-25 22:07:42 ERROR 404: Not Found.\n",
            "\n"
          ]
        }
      ]
    }
  ]
}